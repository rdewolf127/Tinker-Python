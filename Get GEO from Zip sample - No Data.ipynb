{
 "cells": [
  {
   "cell_type": "code",
   "execution_count": null,
   "metadata": {},
   "outputs": [],
   "source": [
    "#Create an array of unique zip codes from your dataframe\n",
    "zips = np.array(by_zip['zip'].drop_duplicates())\n",
    "zips"
   ]
  },
  {
   "cell_type": "code",
   "execution_count": null,
   "metadata": {},
   "outputs": [],
   "source": [
    "#Create a function to use the uszipcode repo to get geo from zip and run your zip array through it\n",
    "from uszipcode import SearchEngine\n",
    "\n",
    "def get_geo(zip):\n",
    "    \n",
    "    \n",
    "    sr = SearchEngine()\n",
    "    z = sr.by_zipcode(zip)\n",
    "    z = pd.DataFrame(z.to_dict())\n",
    "    return z\n",
    "    \n",
    "output = pd.DataFrame()\n",
    "for zip in zips:\n",
    "    output = output.append(get_geo(zip))"
   ]
  },
  {
   "cell_type": "code",
   "execution_count": null,
   "metadata": {},
   "outputs": [],
   "source": [
    "#view the dataframe\n",
    "output.head()"
   ]
  },
  {
   "cell_type": "code",
   "execution_count": null,
   "metadata": {},
   "outputs": [],
   "source": [
    "#merge it with the dataset you need geo information on\n",
    "with_geo = pd.merge(by_zip, output, left_on='zip', right_on='zipcode', how='inner')\n",
    "with_geo.head()"
   ]
  }
 ],
 "metadata": {
  "kernelspec": {
   "display_name": "Python 3",
   "language": "python",
   "name": "python3"
  },
  "language_info": {
   "codemirror_mode": {
    "name": "ipython",
    "version": 3
   },
   "file_extension": ".py",
   "mimetype": "text/x-python",
   "name": "python",
   "nbconvert_exporter": "python",
   "pygments_lexer": "ipython3",
   "version": "3.6.8"
  }
 },
 "nbformat": 4,
 "nbformat_minor": 4
}
