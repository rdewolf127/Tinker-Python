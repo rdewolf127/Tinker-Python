{
 "cells": [
  {
   "cell_type": "code",
   "execution_count": null,
   "metadata": {},
   "outputs": [],
   "source": [
    "#Get the packages\n",
    "from mlxtend.frequent_patterns import apriori, association_rules"
   ]
  },
  {
   "cell_type": "code",
   "execution_count": null,
   "metadata": {},
   "outputs": [],
   "source": [
    "#Get the required attributes from the item table\n",
    "df_itm_slice = df_itm[['TransactionID','ArticleID','ItemReceiptDescription', 'Quantity']].sort_values('TransactionID',ascending=True).dropna()\n",
    "df_itm_slice.info()"
   ]
  },
  {
   "cell_type": "code",
   "execution_count": null,
   "metadata": {},
   "outputs": [],
   "source": [
    "#Calculate how many of each item are in each transaction\n",
    "df =df_itm_slice.groupby(['TransactionID', 'ItemReceiptDescription'])['Quantity'].sum().unstack().reset_index().fillna(0).set_index('TransactionID')\n",
    "df.head()"
   ]
  },
  {
   "cell_type": "code",
   "execution_count": null,
   "metadata": {},
   "outputs": [],
   "source": [
    "#Create the encoding function for the Apriori Algorithm\n",
    "def encode_units(x):\n",
    "    if x<=0:\n",
    "        return 0\n",
    "    if x>0:\n",
    "        return 1"
   ]
  },
  {
   "cell_type": "code",
   "execution_count": null,
   "metadata": {},
   "outputs": [],
   "source": [
    "#Encode the dataset\n",
    "basket_encode = df.applymap(encode_units)\n",
    "basket_encode.head()"
   ]
  },
  {
   "cell_type": "code",
   "execution_count": null,
   "metadata": {},
   "outputs": [],
   "source": [
    "#Remove transactions that don't have at least two distinct items in them\n",
    "basket_encode_2 = basket_encode[(basket_encode>0).sum(axis=1)>=2]\n",
    "basket_encode_2.head()"
   ]
  },
  {
   "cell_type": "code",
   "execution_count": null,
   "metadata": {},
   "outputs": [],
   "source": [
    "#Calulate the frequent items\n",
    "freq_itms = apriori(basket_encode_2, min_support=.01, use_colnames=True).sort_values('support', ascending=False).reset_index(drop=True)\n",
    "freq_itms['length'] = freq_itms['itemsets'].apply(lambda x: len(x))\n",
    "freq_itms"
   ]
  },
  {
   "cell_type": "code",
   "execution_count": null,
   "metadata": {},
   "outputs": [],
   "source": [
    "#apply the association rules\n",
    "associations = association_rules(freq_itms, metric='lift', min_threshold=1).sort_values('lift', ascending=False).reset_index(drop=True)\n",
    "associations.head(25)"
   ]
  }
 ],
 "metadata": {
  "kernelspec": {
   "display_name": "Python 3",
   "language": "python",
   "name": "python3"
  },
  "language_info": {
   "codemirror_mode": {
    "name": "ipython",
    "version": 3
   },
   "file_extension": ".py",
   "mimetype": "text/x-python",
   "name": "python",
   "nbconvert_exporter": "python",
   "pygments_lexer": "ipython3",
   "version": "3.6.8"
  }
 },
 "nbformat": 4,
 "nbformat_minor": 4
}
